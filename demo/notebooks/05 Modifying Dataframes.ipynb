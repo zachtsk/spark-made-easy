{
 "cells": [
  {
   "cell_type": "code",
   "execution_count": 22,
   "id": "966cc62b-1975-4ee5-a2fa-87e522eb7a2a",
   "metadata": {},
   "outputs": [],
   "source": [
    "from pyspark.sql import SparkSession\n",
    "from pyspark.sql import functions as F # Used for dataframe manipulations\n",
    "\n",
    "spark = SparkSession.builder.getOrCreate()\n",
    "\n",
    "# Load data\n",
    "csv_path = \"/data/winemag-reviews.csv\"\n",
    "df = spark.read.format(\"csv\").load(csv_path, header=True)"
   ]
  },
  {
   "cell_type": "code",
   "execution_count": 27,
   "id": "9901d592-5d08-43da-b316-d63cc9496551",
   "metadata": {},
   "outputs": [
    {
     "name": "stdout",
     "output_type": "stream",
     "text": [
      "+------+-----+\n",
      "|points|price|\n",
      "+------+-----+\n",
      "|    92| 80.0|\n",
      "|    92| 70.0|\n",
      "|    92| 36.0|\n",
      "|    92| 39.0|\n",
      "+------+-----+\n",
      "only showing top 4 rows\n",
      "\n"
     ]
    }
   ],
   "source": [
    "# Option 1)\n",
    "df = df.where(F.col(\"points\") > 90)\n",
    "\n",
    "# Option 2)\n",
    "df = df.where(\"points > 90\")\n",
    "\n",
    "# Option 3)\n",
    "df = df.where(df[\"points\"] > 90)\n",
    "df.show(4)"
   ]
  },
  {
   "cell_type": "code",
   "execution_count": 31,
   "id": "db01b72d-c044-4a9b-9ba1-f08ea5c193dd",
   "metadata": {},
   "outputs": [
    {
     "name": "stdout",
     "output_type": "stream",
     "text": [
      "+------+-----+--------------+\n",
      "|points|price|points_plus_10|\n",
      "+------+-----+--------------+\n",
      "|    92| 80.0|         102.0|\n",
      "|    92| 70.0|         102.0|\n",
      "|    92| 36.0|         102.0|\n",
      "|    92| 39.0|         102.0|\n",
      "+------+-----+--------------+\n",
      "only showing top 4 rows\n",
      "\n"
     ]
    }
   ],
   "source": [
    "# Option 1)\n",
    "df = df.withColumn(\"points_plus_10\", F.col(\"points\") + 10)\n",
    "\n",
    "# Option 2)\n",
    "df = df.withColumn(\"points_plus_10\", df[\"points\"] + 10)\n",
    "df.show(4)"
   ]
  }
 ],
 "metadata": {
  "kernelspec": {
   "display_name": "Python 3 (ipykernel)",
   "language": "python",
   "name": "python3"
  },
  "language_info": {
   "codemirror_mode": {
    "name": "ipython",
    "version": 3
   },
   "file_extension": ".py",
   "mimetype": "text/x-python",
   "name": "python",
   "nbconvert_exporter": "python",
   "pygments_lexer": "ipython3",
   "version": "3.11.6"
  }
 },
 "nbformat": 4,
 "nbformat_minor": 5
}
